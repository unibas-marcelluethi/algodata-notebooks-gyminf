{
 "cells": [
  {
   "cell_type": "markdown",
   "metadata": {},
   "source": [
    "# Graphenexploration: Anwendungen"
   ]
  },
  {
   "cell_type": "markdown",
   "metadata": {},
   "source": [
    "## Graphen"
   ]
  },
  {
   "cell_type": "markdown",
   "metadata": {},
   "source": [
    "Wir verwenden hier wieder `networkx` zur Repräsentation und zur Darstellung von Graphen:"
   ]
  },
  {
   "cell_type": "code",
   "execution_count": null,
   "metadata": {},
   "outputs": [],
   "source": [
    "%matplotlib inline\n",
    "\n",
    "import matplotlib\n",
    "import matplotlib.pyplot as plt\n",
    "import networkx as nx\n",
    "import numpy as np\n",
    "\n",
    "edges = [(0,1), (0,3), (1,2), (1,3), (2,4), \n",
    "         (2,5), (3,2), (3,4), (4,1), (4,5)]\n",
    "\n",
    "directed_graph = nx.DiGraph()\n",
    "directed_graph.add_nodes_from([0,1,2,3,4,5])\n",
    "directed_graph.add_edges_from(edges)\n",
    "\n",
    "undirected_graph = nx.Graph()\n",
    "undirected_graph.add_nodes_from([0,1,2,3,4,5])\n",
    "undirected_graph.add_edges_from(edges)\n",
    "\n",
    "# g = nx.gnm_random_graph(8, 16, directed=True)"
   ]
  },
  {
   "cell_type": "code",
   "execution_count": null,
   "metadata": {},
   "outputs": [],
   "source": [
    "pos = nx.spring_layout(directed_graph)\n",
    "nx.draw(directed_graph, pos, with_labels=True, \n",
    "        node_size=1000, node_color='lightblue')"
   ]
  },
  {
   "cell_type": "code",
   "execution_count": null,
   "metadata": {},
   "outputs": [],
   "source": [
    "nx.draw(undirected_graph, pos, with_labels=True, \n",
    "        node_size=1000, node_color='lightblue')"
   ]
  },
  {
   "cell_type": "markdown",
   "metadata": {},
   "source": [
    "## Tiefen- und Breitensuche"
   ]
  },
  {
   "cell_type": "markdown",
   "metadata": {},
   "source": [
    "Da wir sie für die Anwendungen brauchen, sind hier nochmal die Implementierungen der Tiefen- und der Breitensuche vom letzten Mal (da wir sie später benötigen, speichert die Tiefensuche aber die umgekehrte Postorderreihenfolge der Knoten)."
   ]
  },
  {
   "cell_type": "code",
   "execution_count": null,
   "metadata": {},
   "outputs": [],
   "source": [
    "from collections import deque\n",
    "\n",
    "def depth_first_exploration(graph, node, visited=None, \n",
    "                            reverse_postorder=None):\n",
    "    if visited is None:\n",
    "        visited = set()\n",
    "    if node in visited:\n",
    "        return\n",
    "    visited.add(node)\n",
    "    \n",
    "    for s in graph.successors(node):\n",
    "        depth_first_exploration(graph, s, visited, \n",
    "                                reverse_postorder)\n",
    "    if reverse_postorder is not None:\n",
    "        reverse_postorder.appendleft(node)\n",
    "\n",
    "order = deque()\n",
    "depth_first_exploration(directed_graph, 0, reverse_postorder=order)\n",
    "print(order)"
   ]
  },
  {
   "cell_type": "code",
   "execution_count": null,
   "metadata": {},
   "outputs": [],
   "source": [
    "def bfs_with_predecessors(graph, node):\n",
    "    predecessor = dict()\n",
    "    queue = deque()\n",
    "    # use self-loop for start node\n",
    "    predecessor[node] = node\n",
    "    queue.append(node)\n",
    "    while queue:\n",
    "        v = queue.popleft()\n",
    "        for s in graph.successors(v):\n",
    "            if s not in predecessor:\n",
    "                predecessor[s] = v\n",
    "                queue.append(s)\n",
    "    return predecessor"
   ]
  },
  {
   "cell_type": "markdown",
   "metadata": {},
   "source": [
    "## Kürzeste Pfade"
   ]
  },
  {
   "cell_type": "markdown",
   "metadata": {},
   "source": [
    "Für ungewichtete Graphen können wir kürzeste Pfade einfach mit Hilfe einer Breitensuche bestimmen, die sich die Vorgänger im induzierten Suchbaum merkt. Den Pfad extrahiert man dann rückwärts vom Ziel- zum Startknoten.\n",
    "\n",
    "Da wir den Pfad gleich auch zeichnen wollen, speichern wir nicht die Sequenz der Knoten, sondern die Sequenz der Kanten."
   ]
  },
  {
   "cell_type": "code",
   "execution_count": null,
   "metadata": {},
   "outputs": [],
   "source": [
    "def shortest_path(graph, from_node, to_node):\n",
    "    # could stop bfs as soon as to_node has been visited for efficiency\n",
    "    predecessor = bfs_with_predecessors(directed_graph, from_node)\n",
    "    if to_node not in predecessor:\n",
    "        print(\"There is no path from\", from_node, \"to\", to_node)\n",
    "        return None\n",
    "    \n",
    "    path = deque()\n",
    "    current_node = to_node\n",
    "    pre = predecessor[current_node]\n",
    "    while pre != current_node:\n",
    "        path.appendleft((pre, current_node))\n",
    "        current_node = pre\n",
    "        pre = predecessor[current_node]\n",
    "    return path"
   ]
  },
  {
   "cell_type": "code",
   "execution_count": null,
   "metadata": {},
   "outputs": [],
   "source": [
    "path = shortest_path(directed_graph, 0, 5)\n",
    "print(path)\n",
    "if path is not None:\n",
    "    nx.draw(directed_graph, pos, with_labels=True, \n",
    "            node_size=1000, node_color='lightblue')\n",
    "    _ = nx.draw_networkx_edges(directed_graph, pos, \n",
    "                               edgelist=path, width=8, alpha=0.5, \n",
    "                               edge_color=\"red\")\n"
   ]
  },
  {
   "cell_type": "markdown",
   "metadata": {},
   "source": [
    "## Zyklen"
   ]
  },
  {
   "cell_type": "markdown",
   "metadata": {},
   "source": [
    "Ein gerichteter, azyklischer Graph (directed acyclic graph, DAG) ist ein gerichteter Graph, der keine gerichteten Zyklen enthält. Zum Beispiel:"
   ]
  },
  {
   "cell_type": "code",
   "execution_count": null,
   "metadata": {},
   "outputs": [],
   "source": [
    "dag = nx.DiGraph()\n",
    "dag.add_nodes_from([0,1,2,3,4,5,6])\n",
    "dag.add_edges_from([(0,5),(1,0),(1,5),(2,5),(3,2),(4,2),\n",
    "                    (4,3),(6,1),(6,3)])\n",
    "\n",
    "pos_dag = nx.spring_layout(dag)\n",
    "nx.draw(dag, pos_dag, with_labels=True, node_size=1000, \n",
    "        node_color='lightblue')"
   ]
  },
  {
   "cell_type": "markdown",
   "metadata": {},
   "source": [
    "Die Zykeldetektion besteht auf einer Reihe von Tiefensuchen, die den induzierten Suchbaum auf Rückwärtskanten prüft."
   ]
  },
  {
   "cell_type": "code",
   "execution_count": null,
   "metadata": {},
   "outputs": [],
   "source": [
    "class DirectedCycle:\n",
    "    def __init__(self, graph):\n",
    "        self.predecessor = dict()\n",
    "        self.on_current_path = set()\n",
    "        self.cycle = None\n",
    "        for node in graph.nodes:\n",
    "            if self.has_cycle():\n",
    "                break\n",
    "            if node not in self.predecessor:\n",
    "                self.predecessor[node] = node\n",
    "                self.dfs(graph, node)\n",
    "\n",
    "    def has_cycle(self):\n",
    "        return self.cycle is not None\n",
    "\n",
    "    def dfs(self, graph, node):\n",
    "        self.on_current_path.add(node)\n",
    "        for s in graph.successors(node):\n",
    "            if self.has_cycle():\n",
    "                return\n",
    "            if s in self.on_current_path:\n",
    "                self.predecessor[s] = node\n",
    "                self.extract_cycle(s)\n",
    "            if s not in self.predecessor:\n",
    "                self.predecessor[s] = node\n",
    "                self.dfs(graph, s)\n",
    "        self.on_current_path.remove(node)\n",
    "        \n",
    "    def extract_cycle(self, node):\n",
    "        self.cycle = deque()\n",
    "        current = node\n",
    "        self.cycle.appendleft(current)\n",
    "        while True:\n",
    "            current = self.predecessor[current]\n",
    "            self.cycle.appendleft(current)\n",
    "            if current == node:\n",
    "                return    "
   ]
  },
  {
   "cell_type": "code",
   "execution_count": null,
   "metadata": {},
   "outputs": [],
   "source": [
    "cycle_detector = DirectedCycle(dag)\n",
    "print(\"Hat der DAG einen Zyklus?\", cycle_detector.has_cycle())\n",
    "cycle_detector = DirectedCycle(directed_graph)\n",
    "print(\"Hat der andere gerichtete Graph einen Zyklus?\", cycle_detector.has_cycle())\n",
    "cycle = cycle_detector.cycle\n",
    "print(cycle)\n",
    "\n",
    "path = [(cycle[i], cycle[i+1]) for i in range(len(cycle)-1)]\n",
    "nx.draw(directed_graph, pos, with_labels=True, node_size=1000, node_color='lightblue')\n",
    "_ = nx.draw_networkx_edges(directed_graph, pos, edgelist=path, width=8, alpha=0.5, edge_color=\"red\")\n"
   ]
  },
  {
   "cell_type": "markdown",
   "metadata": {},
   "source": [
    "## Topologische Sortierung"
   ]
  },
  {
   "cell_type": "markdown",
   "metadata": {},
   "source": [
    "Eine topologische Sortierung eines azyklischen, gerichteten Graphen ist eine Knotenreihenfolge, bei er es keine Kante von einem \"späteren\" zu einem \"früheren\" Knoten gibt."
   ]
  },
  {
   "cell_type": "markdown",
   "metadata": {},
   "source": [
    "Zur Berechnung verwenden wir einfach eine Folge von Tiefensuchen und extrahieren eine *vollständige* umgekehrte Postorderreihenfolge."
   ]
  },
  {
   "cell_type": "code",
   "execution_count": null,
   "metadata": {},
   "outputs": [],
   "source": [
    "def topological_sort(acyclic_digraph):\n",
    "    visited = set()\n",
    "    reverse_postorder = deque()\n",
    "    for node in acyclic_digraph.nodes:\n",
    "        depth_first_exploration(acyclic_digraph, node, visited, \n",
    "                                reverse_postorder)\n",
    "    return reverse_postorder"
   ]
  },
  {
   "cell_type": "code",
   "execution_count": null,
   "metadata": {},
   "outputs": [],
   "source": [
    "top = topological_sort(dag)\n",
    "print(top)\n",
    "nx.draw(dag, pos_dag, with_labels=True, \n",
    "        node_size=1000, node_color='lightblue')"
   ]
  },
  {
   "cell_type": "markdown",
   "metadata": {},
   "source": [
    "## Zusammenhangskomponenten ungerichteter Graphen"
   ]
  },
  {
   "cell_type": "markdown",
   "metadata": {},
   "source": [
    "Zwei Knoten $u$ und $v$ sind in der gleichen Zusammenhangskomponente, wenn es einen Pfad zwischen $u$ und $v$ gibt."
   ]
  },
  {
   "cell_type": "code",
   "execution_count": null,
   "metadata": {},
   "outputs": [],
   "source": [
    "class ConnectedComponents:\n",
    "    def __init__(self, graph):\n",
    "        self.id = [None] * graph.number_of_nodes()\n",
    "        self.curr_id = 0\n",
    "        for node in graph.nodes:\n",
    "            if self.id[node] is None:\n",
    "                self.dfs(graph, node)\n",
    "                self.curr_id += 1\n",
    "\n",
    "    def dfs(self, graph, node):\n",
    "        if self.id[node] is not None:\n",
    "            return\n",
    "        self.id[node] = self.curr_id\n",
    "        for n in graph.neighbors(node):\n",
    "            self.dfs(graph, n)\n",
    "            \n",
    "    def connected(self, node1, node2):\n",
    "        pass\n",
    "    \n",
    "    def count(self):\n",
    "        pass\n",
    "            \n",
    "            "
   ]
  },
  {
   "cell_type": "markdown",
   "metadata": {},
   "source": [
    "<span style=\"color:red\">*Aufgabe*</span>: Vervollständigen Sie die Implementierung von `connected` und `count`."
   ]
  },
  {
   "cell_type": "code",
   "execution_count": null,
   "metadata": {},
   "outputs": [],
   "source": [
    "cc_undirected = nx.Graph()\n",
    "cc_undirected.add_nodes_from([0,1,2,3,4,5,6,7,8,9])\n",
    "edges_cc_undirected = [(0,1), (0,2), (1,2), (1,3), (2,3), \n",
    "                       (2,4), (3,5), (6,7), (6,8), (7,8)]\n",
    "cc_undirected.add_edges_from(edges_cc_undirected)\n",
    "\n",
    "#pos = nx.planar_layout(cc_undirected)\n",
    "pos_planar = {\n",
    "    0: np.array([-0.2, 0.2]),\n",
    "    1: np.array([-0.2, 0.4]),\n",
    "    2: np.array([0.18, 0]),\n",
    "    3: np.array([-0.5, 0]),\n",
    "    4: np.array([0.2, 0.15]),\n",
    "    5: np.array([-0.7, 0.1]),\n",
    "    6: np.array([0.5, 0.1]),\n",
    "    7: np.array([0.3, -0.2]),\n",
    "    8: np.array([0.9, -0.3]),\n",
    "    9: np.array([0.9, 0])\n",
    "}\n",
    "\n",
    "nx.draw(cc_undirected, pos_planar, with_labels=True, node_size=1000,\n",
    "        node_color='lightblue')\n",
    "\n",
    "cc = ConnectedComponents(cc_undirected)\n",
    "print(\"Der Graph hat\", cc.count(), \"Zusammenhangskomponenten.\")\n",
    "print(\"Knoten 0 und 4 sind verbunden?\", cc.connected(0,4))\n",
    "print(\"Knoten 3 und 7 sind verbunden?\", cc.connected(3,7))"
   ]
  },
  {
   "cell_type": "markdown",
   "metadata": {},
   "source": [
    "## Starke Zusammenhangskomponenten gerichteter Graphen"
   ]
  },
  {
   "cell_type": "markdown",
   "metadata": {},
   "source": [
    "Wir erstellen zunächst einmal einen Beispielgraphen:"
   ]
  },
  {
   "cell_type": "code",
   "execution_count": null,
   "metadata": {},
   "outputs": [],
   "source": [
    "scc_example = nx.DiGraph()\n",
    "scc_example.add_nodes_from([0,1,2,3,4,5,6,7,8,9])\n",
    "edges_scc = [(0,1), (1,2), (1,3), (2,0), (2,3), (2,4), (3,5),\n",
    "             (4,2), (5,3), (6,7), (7,8), (8,6), (8,7), (8,9)]\n",
    "scc_example.add_edges_from(edges_scc)\n",
    "\n",
    "nx.draw(scc_example, pos_planar, with_labels=True, node_size=1000,\n",
    "        node_color='lightblue')"
   ]
  },
  {
   "cell_type": "markdown",
   "metadata": {},
   "source": [
    "Zur Berechnung der starken Zusammenhangskomponenten verwenden wir den Algorithmus von Kosaraju:"
   ]
  },
  {
   "cell_type": "code",
   "execution_count": null,
   "metadata": {},
   "outputs": [],
   "source": [
    "def compute_strongly_connected_components(directed_graph):\n",
    "    reversed_graph = directed_graph.reverse(False)\n",
    "    \n",
    "    # compute complete reverse postorder for reversed graph\n",
    "    visited = set()\n",
    "    reverse_postorder = deque()\n",
    "    for node in reversed_graph.nodes:\n",
    "        depth_first_exploration(reversed_graph, node, visited,\n",
    "                                reverse_postorder)\n",
    "        \n",
    "    print(reverse_postorder)\n",
    "    sccs = []\n",
    "    \n",
    "    visited = set()\n",
    "    for node in reverse_postorder:\n",
    "        if node not in visited:\n",
    "            scc = deque()\n",
    "            depth_first_exploration(directed_graph, node, visited, scc)\n",
    "            sccs.append(scc)\n",
    "    \n",
    "    return sccs"
   ]
  },
  {
   "cell_type": "markdown",
   "metadata": {},
   "source": [
    "<span style=\"color:red\">*Aufgabe*</span>: Vervollständigen Sie die Implementierung von `compute_strongly_connected_components`."
   ]
  },
  {
   "cell_type": "markdown",
   "metadata": {},
   "source": [
    "Zum Testen färben wir den Testgraphen entsprechend ein:"
   ]
  },
  {
   "cell_type": "code",
   "execution_count": null,
   "metadata": {},
   "outputs": [],
   "source": [
    "sccs = compute_strongly_connected_components(scc_example)\n",
    "print(sccs)\n",
    "\n",
    "node_to_component_no = dict()\n",
    "for no, component in enumerate(sccs):\n",
    "    for node in component:\n",
    "        node_to_component_no[node] = no\n",
    "        \n",
    "nodelist = list(scc_example.nodes)\n",
    "colors = [node_to_component_no[n] for n in nodelist]\n",
    "\n",
    "nx.draw(scc_example, pos_planar, with_labels=True, node_size=1000, \n",
    "        node_color=colors)\n"
   ]
  }
 ],
 "metadata": {
  "kernelspec": {
   "display_name": "Python 3",
   "language": "python",
   "name": "python3"
  },
  "language_info": {
   "codemirror_mode": {
    "name": "ipython",
    "version": 3
   },
   "file_extension": ".py",
   "mimetype": "text/x-python",
   "name": "python",
   "nbconvert_exporter": "python",
   "pygments_lexer": "ipython3",
   "version": "3.8.10"
  },
  "toc": {
   "base_numbering": 1,
   "nav_menu": {},
   "number_sections": false,
   "sideBar": false,
   "skip_h1_title": false,
   "title_cell": "Table of Contents",
   "title_sidebar": "Contents",
   "toc_cell": false,
   "toc_position": {},
   "toc_section_display": false,
   "toc_window_display": false
  }
 },
 "nbformat": 4,
 "nbformat_minor": 2
}
