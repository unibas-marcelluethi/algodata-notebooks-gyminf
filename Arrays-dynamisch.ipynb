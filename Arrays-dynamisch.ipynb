{
 "cells": [
  {
   "cell_type": "markdown",
   "metadata": {},
   "source": [
    "# Dynamische Arrays"
   ]
  },
  {
   "cell_type": "markdown",
   "metadata": {},
   "source": [
    "Wir haben gesehen, wie wir die Methoden ```append``` und ```pop```, die ein Element am Ende eines Arrays anfügen, respektive entfernen, effizient implementieren können. Hier nochmals die Implementation:"
   ]
  },
  {
   "cell_type": "code",
   "execution_count": null,
   "metadata": {},
   "outputs": [],
   "source": [
    "class  Array:\n",
    "    \n",
    "    def __init__(self):\n",
    "        self.data = [None] # list  simulates  block  of  memory\n",
    "        self.idx = 0\n",
    "        \n",
    "    def append(self, elem):\n",
    "        if self.idx == len(self.data):    \n",
    "            self.resize(len(self.data) * 2)\n",
    "        self.data[self.idx] = elem\n",
    "        self.idx  += 1        \n",
    "    \n",
    "    def pop(self):\n",
    "        self.idx -= 1\n",
    "        item = self.data[self.idx]; \n",
    "        if self.idx > 0  and self.idx == len(self.data) / 4:\n",
    "            self.resize(int(len(self.data) / 2)) \n",
    "\n",
    "        return item; \n",
    "\n",
    "    def resize(self, numElements):\n",
    "        newArray = [None] * numElements\n",
    "\n",
    "        for i in  range(0, self.idx):            \n",
    "            newArray[i] = self.data[i]\n",
    "        self.data = newArray\n",
    "    \n",
    "    def __str__(self):\n",
    "        return str(self.data)\n",
    "    \n",
    "    def length(self):\n",
    "        return self.idx\n"
   ]
  },
  {
   "cell_type": "markdown",
   "metadata": {},
   "source": [
    "Die folgenden Tests zeigen, dass die Implementation wie erwartet funktioniert:"
   ]
  },
  {
   "cell_type": "code",
   "execution_count": null,
   "metadata": {},
   "outputs": [],
   "source": [
    "a = Array()\n",
    "for i in range(0, 10):\n",
    "    a.append(i)\n",
    "print(\"Array after append: \" + str(a))\n",
    "print(\"length: \" +str(a.length()))\n",
    "\n",
    "print(\"idx before pop \" +str(a.idx))\n",
    "lastElement = a.pop()\n",
    "print(\"lastElement \" + str(lastElement))\n",
    "print(\"Array after pop: \" +str(a))\n",
    "print(\"idx after pop \" +str(a.idx))\n",
    "print(\"length after pop: \" +str(a.length()))"
   ]
  },
  {
   "cell_type": "markdown",
   "metadata": {},
   "source": [
    "#### Experimente\n",
    "\n",
    "Wir wollen nun testen, wie sich die Laufzeit der append Methode verhält. "
   ]
  },
  {
   "cell_type": "code",
   "execution_count": null,
   "metadata": {},
   "outputs": [],
   "source": [
    "import timeit\n",
    "import random"
   ]
  },
  {
   "cell_type": "code",
   "execution_count": null,
   "metadata": {},
   "outputs": [],
   "source": [
    "def createByAppend(n):\n",
    "    a = Array()\n",
    "    for i in range(0, n):\n",
    "        a.append(i)\n",
    "    return a;"
   ]
  },
  {
   "cell_type": "code",
   "execution_count": null,
   "metadata": {
    "scrolled": true
   },
   "outputs": [],
   "source": [
    "for n in [10, 100, 10000]:\n",
    "    t = timeit.timeit(lambda: createByAppend(n), number=1)\n",
    "    print(\"Durchschnittliche Zeit für eine append Operation bei \" + str(n) + \" Elementen = \" + str(t / n))"
   ]
  },
  {
   "cell_type": "markdown",
   "metadata": {},
   "source": [
    "Wie wir sehen, ist die Durchschnittliche Zeit pro ```append```-Operation konstant, unabhängig davon, wieviele Elemente wir einfügen. "
   ]
  },
  {
   "cell_type": "markdown",
   "metadata": {},
   "source": [
    "##### Übungen: \n",
    "\n",
    "* Vergleichen Sie die Laufzeit mit einer naiven Implementation, bei der das Array bei jedem Aufruf vergrössert wird."
   ]
  },
  {
   "cell_type": "markdown",
   "metadata": {},
   "source": [
    "### Ammortisierte Analyse: Array resizing"
   ]
  },
  {
   "cell_type": "markdown",
   "metadata": {},
   "source": [
    "Im Folgenden schauen wir uns die ```append``` Operation noch auf theoretischer Ebene an. Der folgende Code dient zum illustrieren der Idee der amortisierten Analyse. Die Idee ist einfach - wir führen Buchhalten. Bei jeder ```billigen``` Operation erhalten wir einen Betrag, mit dem wir später die teure Operation bezahlen. Unsere Währung ist dabei ein *Token*. Für jeden Arrayzugriff in der resize Methode bezahlen wir mit einem Token. Wenn wir es schaffen, dass wir bei jeder ```append```-Operation immer dieselbe konstante Anzahl Tokens auf die Seite legen können, und damit genügend Tokens zur Verfügung haben um damit die Anzahl Array-Zugriffe in der ```resize``` Operation bezahlen können, haben wir eine amortisiert konstante Laufzeit.\n",
    "\n",
    "Im folgenden Code ist diese Idee umgesetzt:"
   ]
  },
  {
   "cell_type": "code",
   "execution_count": null,
   "metadata": {},
   "outputs": [],
   "source": [
    "class  ArrayWithAccounting:\n",
    "\n",
    "    def __init__(self):\n",
    "        self.data = [None] \n",
    "        self.idx = 0\n",
    "        self.tokens = 0 # Anzahl Tokens ist am Anfang 0\n",
    "        \n",
    "    def append(self, elem):\n",
    "        if self.idx == len(self.data):            \n",
    "            self.resize(len(self.data) * 2)\n",
    "        \n",
    "        # Wir legen hier 8 Tokens auf die Seite, um für alle Array-Zugriffe in der resize Operation zu bezahlen\n",
    "        self.tokens += 8\n",
    "        \n",
    "        self.data[self.idx] = elem\n",
    "        \n",
    "        self.idx  += 1        \n",
    "        print(\"tokens after append \" + str(self.tokens))\n",
    "\n",
    "    def resize(self, numElements ):\n",
    "        # Ein neues Array anzulegen braucht 1 Array Zugriffe pro Element\n",
    "        # Wir bezahlen also ein Token pro Element\n",
    "        newArray = [None] * numElements\n",
    "        self.tokens -= 1 * numElements \n",
    "        \n",
    "        for i in  range(0, self.idx):            \n",
    "            newArray[i] = self.data[i]\n",
    "            \n",
    "            # Für jedes kopierte Element brauchen wir 2 Array Zugriffe \n",
    "            # Wir bezahlen also 2 Token pro Element\n",
    "            self.tokens -= 2 \n",
    "            \n",
    "        self.data = newArray\n",
    "    \n",
    "    def __str__(self):\n",
    "        return str(self.data)\n"
   ]
  },
  {
   "cell_type": "markdown",
   "metadata": {},
   "source": [
    "Wenn wir diesen Code Ausführen, dann sehen wir, dass wir nach jeder Append Operation immer eine positive Anzahl Tokens haben. "
   ]
  },
  {
   "cell_type": "code",
   "execution_count": null,
   "metadata": {},
   "outputs": [],
   "source": [
    "a = ArrayWithAccounting()\n",
    "for i in range(0, 32):\n",
    "    a.append(i)\n"
   ]
  },
  {
   "cell_type": "markdown",
   "metadata": {},
   "source": [
    "*Übung: Würde es auch mit 7 Tokens funktionieren? Experimentieren Sie!*"
   ]
  },
  {
   "cell_type": "markdown",
   "metadata": {},
   "source": [
    "#### Satz: Dynamisches vergrössern, verkleinern eines Arrays"
   ]
  },
  {
   "cell_type": "markdown",
   "metadata": {},
   "source": [
    "Was wir nun experimentell herausgefunden haben lässt sich formal beweisen. Für eine Beweisskizze, siehe Sedgewick und Wayne, Algorithms, Satz E, Seite 221).\n",
    "\n",
    "> Satz: Bei einem Array mit variabler Grösse ist gemäss obigen Algorithmus die durchschnittliche Anzahl der Arrayzugriffe für jede beliebige Folge von $M$ ```append``` und ```pop``` Operationen, ausgehend von dem leeren Array, proportional zu $M$.\n"
   ]
  },
  {
   "cell_type": "markdown",
   "metadata": {},
   "source": [
    "### Dynamische Arrays in Python\n"
   ]
  },
  {
   "cell_type": "markdown",
   "metadata": {},
   "source": [
    "Wie bereits im vorigen Notebook besprochen, ist ein Array in Python durch den Datentyp ```List``` implementiert. \n",
    "Der Datenbyp ```List``` entspricht einem dynamischen Array und unterstützt bereits die ```append``` und ```pop``` Methoden. Auch hier wollen wir wieder experimentell überprüfen, ob die Laufzeit unseren Erwartungen entspricht. \n",
    "\n"
   ]
  },
  {
   "cell_type": "code",
   "execution_count": null,
   "metadata": {},
   "outputs": [],
   "source": [
    "def createByAppendPython(n):\n",
    "    a = []\n",
    "    for i in range(0, n):\n",
    "        a.append(i)\n",
    "    return a;"
   ]
  },
  {
   "cell_type": "code",
   "execution_count": null,
   "metadata": {},
   "outputs": [],
   "source": [
    "for i in range(1, 6):\n",
    "    n = 10**i\n",
    " \n",
    "    t = timeit.timeit(lambda: createByAppendPython(n), number=100)\n",
    "    print(\"Durchschnittliche Zeit für eine append Operation bei \" + str(n) + \" Elementen = \" + str(t / n))"
   ]
  },
  {
   "cell_type": "markdown",
   "metadata": {},
   "source": [
    "Python stellt auch eine Methode zur Verfügung, um an einer beliebigen Stelle im Array ein Element einzufügen. Es ist leicht zu sehen, dass wir beim Einfügen an einer beliebigen Stelle, alle Elemente hinter der Einfügestelle kopieren müssen. Diese Operation hat also im schlimmsten Fall lineare Laufzeit in der Arraygrösse. Auch dies können wir einfach experimentell bestätigen"
   ]
  },
  {
   "cell_type": "code",
   "execution_count": null,
   "metadata": {},
   "outputs": [],
   "source": [
    "def insertFirstPython(n):\n",
    "    a = []\n",
    "    for i in range(0, n):\n",
    "        a.insert(0, i)\n",
    "    return a;"
   ]
  },
  {
   "cell_type": "code",
   "execution_count": null,
   "metadata": {},
   "outputs": [],
   "source": [
    "for i in range(1, 6):\n",
    "    n = 10**i\n",
    "    t = timeit.timeit(lambda: insertFirstPython(n), number=1)\n",
    "    print(\"Durchschnittliche Zeit für eine insert Operation bei \" + str(n) + \" Elementen = \" + str(t / n))"
   ]
  }
 ],
 "metadata": {
  "anaconda-cloud": {},
  "kernelspec": {
   "display_name": "Python 3 (ipykernel)",
   "language": "python",
   "name": "python3"
  },
  "language_info": {
   "codemirror_mode": {
    "name": "ipython",
    "version": 3
   },
   "file_extension": ".py",
   "mimetype": "text/x-python",
   "name": "python",
   "nbconvert_exporter": "python",
   "pygments_lexer": "ipython3",
   "version": "3.7.4"
  },
  "toc": {
   "base_numbering": 1,
   "nav_menu": {},
   "number_sections": false,
   "sideBar": false,
   "skip_h1_title": false,
   "title_cell": "Table of Contents",
   "title_sidebar": "Contents",
   "toc_cell": false,
   "toc_position": {},
   "toc_section_display": false,
   "toc_window_display": false
  }
 },
 "nbformat": 4,
 "nbformat_minor": 1
}
