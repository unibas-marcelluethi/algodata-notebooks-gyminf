{
 "cells": [
  {
   "cell_type": "markdown",
   "metadata": {},
   "source": [
    "# Verkettete Listen"
   ]
  },
  {
   "cell_type": "markdown",
   "metadata": {},
   "source": [
    "### Interne Implementation mit der Klasse Node\n",
    "\n",
    "Die Grundlage für die Implementation ist ein Node. Ein Node enthält ein Datum (hier item genannt) und eine Referenz auf das nächste Element (oder None, falls es kein nächstes Element gibt)"
   ]
  },
  {
   "cell_type": "code",
   "execution_count": 1,
   "metadata": {},
   "outputs": [],
   "source": [
    "class Node:\n",
    "    def __init__(self, item, next=None):\n",
    "        self.item = item\n",
    "        self.next = next    "
   ]
  },
  {
   "cell_type": "markdown",
   "metadata": {},
   "source": [
    "Bevor wir mit dieser Datenstruktur experimentieren, brauchen wir eine Methode, die uns die Liste anzeigt. "
   ]
  },
  {
   "cell_type": "code",
   "execution_count": 2,
   "metadata": {},
   "outputs": [],
   "source": [
    "def printList(n):\n",
    "    currentNode = n\n",
    "    while (currentNode != None):\n",
    "        print(currentNode.item)\n",
    "        currentNode = currentNode.next"
   ]
  },
  {
   "cell_type": "markdown",
   "metadata": {},
   "source": [
    "Ale erstes erzeugen wir 3 Knoten "
   ]
  },
  {
   "cell_type": "code",
   "execution_count": 3,
   "metadata": {},
   "outputs": [],
   "source": [
    "n1 = Node(\"first\")\n",
    "n2 = Node(\"second\")\n",
    "n3 = Node(\"third\")"
   ]
  },
  {
   "cell_type": "markdown",
   "metadata": {},
   "source": [
    "Wie wir mit printList sehen, ist jedes Element noch einzeln."
   ]
  },
  {
   "cell_type": "code",
   "execution_count": 4,
   "metadata": {},
   "outputs": [
    {
     "name": "stdout",
     "output_type": "stream",
     "text": [
      "first\n"
     ]
    }
   ],
   "source": [
    "printList(n1)"
   ]
  },
  {
   "cell_type": "markdown",
   "metadata": {},
   "source": [
    "Um eine Liste von 3 Elementen zu erhalten müssen wir diese noch verketten."
   ]
  },
  {
   "cell_type": "code",
   "execution_count": 5,
   "metadata": {},
   "outputs": [
    {
     "name": "stdout",
     "output_type": "stream",
     "text": [
      "first\n",
      "second\n",
      "third\n"
     ]
    }
   ],
   "source": [
    "n1.next = n2; n2.next = n3\n",
    "printList(n1)"
   ]
  },
  {
   "cell_type": "markdown",
   "metadata": {},
   "source": [
    "Wir können jetzt weitere Funktionen schreiben um mit der Liste zu arbeiten, wie zum Beispiel ein Element am Anfang hinzuzufügen"
   ]
  },
  {
   "cell_type": "code",
   "execution_count": 6,
   "metadata": {},
   "outputs": [],
   "source": [
    "def addItemToBegin(item, node):\n",
    "    newNode = Node(item)\n",
    "    newNode.next = node\n",
    "    \n",
    "    return newNode"
   ]
  },
  {
   "cell_type": "code",
   "execution_count": 7,
   "metadata": {},
   "outputs": [
    {
     "name": "stdout",
     "output_type": "stream",
     "text": [
      "before first\n",
      "second\n",
      "third\n",
      "-----\n",
      "first\n",
      "second\n",
      "third\n"
     ]
    }
   ],
   "source": [
    "printList(addItemToBegin(\"before first\", n2))\n",
    "print(\"-----\")\n",
    "printList(n1)"
   ]
  },
  {
   "cell_type": "markdown",
   "metadata": {},
   "source": [
    "## Implementieren eines Datentyps Liste\n",
    "\n",
    "Direkt mit der Klasse Node zu arbeiten funktioniert für interne Implementationen, wäre aber für einen Endbenutzer zu mühsam. Eine bessere Strategie ist es, einen Datentyp Liste zu entwicklen, und diesen dann, zum Beispiel mit einer verketteten Liste zu implementieren. \n",
    "Wir zeigen hier schematisch, wie so eine Implementation aussehen kann."
   ]
  },
  {
   "cell_type": "code",
   "execution_count": 8,
   "metadata": {},
   "outputs": [],
   "source": [
    "class LinkedList:\n",
    "    \n",
    "    \n",
    "    class Iterator:        \n",
    "        def __init__(self, linkedList):\n",
    "            self.currentItem = linkedList.head\n",
    "            self.linkedList = linkedList\n",
    "        \n",
    "        def hasNext(self):    \n",
    "            return (self.currentItem != None)\n",
    "    \n",
    "        def next(self):            \n",
    "            item = self.currentItem.item\n",
    "            self.currentItem = self.currentItem.next\n",
    "            return item\n",
    "\n",
    "        \n",
    "    def iterator(self):\n",
    "        return LinkedList.Iterator(self)   \n",
    "    \n",
    "    def __init__(self):\n",
    "        self.head = None\n",
    "  \n",
    "    def addFirst(self, item):         \n",
    "        newNode = Node(item, self.head)        \n",
    "        self.head = newNode\n",
    "        \n",
    "    def append(self, item):\n",
    "        currentNode = self.head\n",
    "        if currentNode == None:\n",
    "            self.head = Node(item)\n",
    "            return\n",
    "        while currentNode.next != None:\n",
    "            currentNode = currentNode.next\n",
    "        currentNode.next = Node(item)\n",
    "        \n",
    "    def removeFirst(self):\n",
    "        if self.head != None:\n",
    "            self.head = self.head.next\n",
    "    \n",
    "    def print(self):        \n",
    "        currentNode = self.head\n",
    "        while (currentNode != None):\n",
    "            print(currentNode.item, end=\" \")\n",
    "            currentNode = currentNode.next\n"
   ]
  },
  {
   "cell_type": "markdown",
   "metadata": {},
   "source": [
    "*Übung: Implementieren Sie die fehlenden Methoden!*"
   ]
  },
  {
   "cell_type": "markdown",
   "metadata": {},
   "source": [
    "Dank diesem Datentyp ist es nun sehr einfach die Liste zu benutzen."
   ]
  },
  {
   "cell_type": "code",
   "execution_count": 9,
   "metadata": {},
   "outputs": [
    {
     "name": "stdout",
     "output_type": "stream",
     "text": [
      "first second last "
     ]
    }
   ],
   "source": [
    "l = LinkedList()\n",
    "l.addFirst(\"last\")\n",
    "l.addFirst(\"second\")\n",
    "l.addFirst(\"first\")\n",
    "l.print()"
   ]
  },
  {
   "cell_type": "code",
   "execution_count": 10,
   "metadata": {},
   "outputs": [],
   "source": [
    "it =l.iterator()"
   ]
  },
  {
   "cell_type": "code",
   "execution_count": 11,
   "metadata": {},
   "outputs": [
    {
     "name": "stdout",
     "output_type": "stream",
     "text": [
      "first\n",
      "second\n",
      "last\n"
     ]
    }
   ],
   "source": [
    "while (it.hasNext()):    \n",
    "    print(it.next())"
   ]
  },
  {
   "cell_type": "markdown",
   "metadata": {},
   "source": [
    "### Exkurs Python Iteratoren\n",
    "\n",
    "In Python spielen Iteratoren eine zentrale Rolle. For-Schleifen in Python brauchen ein Objekt über welches iteriert \n",
    "werden kann. In sehr vielen Fällen nutzen wir hierzu die range() function, welche eine Sequenz erstellt über die\n",
    "wir iterieren können. \n",
    "\n",
    "Um in Python eine Objekt einer Klasse iterierbar zu machen müssen wir \n",
    "die \\_\\_iter\\_\\_ und \\_\\_next\\_\\_ Funktionen definieren."
   ]
  },
  {
   "cell_type": "code",
   "execution_count": 12,
   "metadata": {},
   "outputs": [],
   "source": [
    "class IterableLinkedList:\n",
    "    \n",
    "    def __init__(self):\n",
    "        self.head = None\n",
    "    \n",
    "    def __iter__(self):\n",
    "        self.currentNode = self.head\n",
    "        return self\n",
    "    \n",
    "    def __next__(self):\n",
    "        if self.currentNode == None:\n",
    "            raise StopIteration\n",
    "        item = self.currentNode.item\n",
    "        self.currentNode = self.currentNode.next\n",
    "        return item\n",
    "    \n",
    "    def addFirst(self, item):         \n",
    "        newNode = Node(item, self.head)        \n",
    "        self.head = newNode"
   ]
  },
  {
   "cell_type": "markdown",
   "metadata": {},
   "source": [
    "Nun können wir auf die Elemente der Liste mit einer for-Schleife zugreifen."
   ]
  },
  {
   "cell_type": "code",
   "execution_count": 13,
   "metadata": {},
   "outputs": [
    {
     "name": "stdout",
     "output_type": "stream",
     "text": [
      "first\n",
      "second\n",
      "last\n"
     ]
    }
   ],
   "source": [
    "l = IterableLinkedList()\n",
    "l.addFirst(\"last\")\n",
    "l.addFirst(\"second\")\n",
    "l.addFirst(\"first\")\n",
    "\n",
    "for element in l:\n",
    "    print(element)"
   ]
  },
  {
   "cell_type": "markdown",
   "metadata": {},
   "source": [
    "### Rekursive Implementation"
   ]
  },
  {
   "cell_type": "markdown",
   "metadata": {},
   "source": [
    "Wir können eine Liste auch als rekursive Datenstruktur interpretieren. Die Definition ist grundsätzlich dieselbe wie bei der Klasse Node. Um die rekursive Struktur klarer zu machen, führen wir hier jedoch eine neue Klasse ein, die die Intention klarer macht. "
   ]
  },
  {
   "cell_type": "code",
   "execution_count": 14,
   "metadata": {},
   "outputs": [],
   "source": [
    "class LList:\n",
    "    def __init__(self, head, tail):\n",
    "        self.head = head\n",
    "        self.tail = tail       "
   ]
  },
  {
   "cell_type": "markdown",
   "metadata": {},
   "source": [
    "Wir interpretieren dabei den Python Wert ```None``` als die Leere Liste."
   ]
  },
  {
   "cell_type": "markdown",
   "metadata": {},
   "source": [
    "Wir können nun eine Liste einfach durch Schachtelung konstruieren."
   ]
  },
  {
   "cell_type": "code",
   "execution_count": 15,
   "metadata": {},
   "outputs": [],
   "source": [
    "l = LList(\"first\", LList(\"second\", LList(\"third\", None)))"
   ]
  },
  {
   "cell_type": "markdown",
   "metadata": {},
   "source": [
    "Die rekursive Definition führt zu einer sehr natürlichen, rekursiven, Implementation der Operationen. Der Code folgt einfach der Struktur die durch die Datenstruktur vorgegeben ist. "
   ]
  },
  {
   "cell_type": "markdown",
   "metadata": {},
   "source": [
    "#### Übung: \n",
    "Implementieren Sie rekursive Operationen für ```printList``` und ```append``` (am Ende einfügen). Die ```append``` operation soll eine neue Liste mit einem neuen Element zurückgeben."
   ]
  },
  {
   "cell_type": "code",
   "execution_count": 16,
   "metadata": {
    "pycharm": {
     "name": "#%%\n"
    }
   },
   "outputs": [],
   "source": [
    "def printList(l):\n",
    "    if (l == None):\n",
    "        print(\"\")\n",
    "    else:\n",
    "        print(l.head)\n",
    "        printList(l.tail)\n",
    "        \n",
    "def append(l, e):\n",
    "    if l == None:\n",
    "        return LList(e, None)\n",
    "    else:\n",
    "        l.tail = append(l.tail, e)\n",
    "    return l\n",
    "        "
   ]
  },
  {
   "cell_type": "code",
   "execution_count": null,
   "outputs": [],
   "source": [],
   "metadata": {
    "collapsed": false,
    "pycharm": {
     "name": "#%%\n"
    }
   }
  },
  {
   "cell_type": "code",
   "execution_count": null,
   "metadata": {},
   "outputs": [],
   "source": []
  }
 ],
 "metadata": {
  "anaconda-cloud": {},
  "kernelspec": {
   "display_name": "Python 3",
   "language": "python",
   "name": "python3"
  },
  "language_info": {
   "codemirror_mode": {
    "name": "ipython",
    "version": 3
   },
   "file_extension": ".py",
   "mimetype": "text/x-python",
   "name": "python",
   "nbconvert_exporter": "python",
   "pygments_lexer": "ipython3",
   "version": "3.7.6"
  }
 },
 "nbformat": 4,
 "nbformat_minor": 1
}
