{
 "cells": [
  {
   "cell_type": "markdown",
   "metadata": {},
   "source": [
    "# Binärbäume"
   ]
  },
  {
   "cell_type": "markdown",
   "metadata": {},
   "source": [
    "#### Vorbereitung"
   ]
  },
  {
   "cell_type": "markdown",
   "metadata": {},
   "source": [
    "Dieses notebook benötigt das Networkx package zur Visualisierung. Wenn Sie Annaconda nutzen, können Sie dies mit dem Befehl \n",
    "```\n",
    "conda install -c conda-forge networkx\n",
    "```\n",
    "installieren. In google colab sollte dies bereits zur Verfügung stehen. "
   ]
  },
  {
   "cell_type": "markdown",
   "metadata": {},
   "source": [
    "#### Hilfsfunktionen zum Visualisieren von Bäumen\n",
    "\n",
    "Als erstes definieren wir uns die Hilfsfunktionen ```showTree``` mit der wir einen Baum grafisch darstellen können. Sie müssen diesen Code nicht verstehen, müssen die Zelle aber ausführen, damit Ihnen die ``` showTree``` Funktion zur Verfügung steht. "
   ]
  },
  {
   "cell_type": "code",
   "execution_count": 6,
   "metadata": {},
   "outputs": [],
   "source": [
    "import networkx as nx\n",
    "import matplotlib\n",
    "import matplotlib.pyplot as plt\n",
    "\n",
    "class NodeWithId:\n",
    "    def __init__(self, value, id, left, right):\n",
    "        self.item = value\n",
    "        self.id = id\n",
    "        self.left = left\n",
    "        self.right = right\n",
    "        \n",
    "def _augmentTreeWithId( t, n):\n",
    "    if t == None:\n",
    "        return (None, n)\n",
    "    else:        \n",
    "        (leftNode, newN) = _augmentTreeWithId(t.left, n)\n",
    "        (rightNode, rightN) = _augmentTreeWithId(t.right, newN + 1)\n",
    "        return (NodeWithId(t.item, newN + 1, leftNode, rightNode), rightN )\n",
    "\n",
    "def _buildTreeGraph(g, t, parentNode, depth):\n",
    "    if t == None:\n",
    "        return\n",
    "    _buildTreeGraph(g, t.left, t, depth + 1)\n",
    "    g.add_node(t.id, pos=(t.id, -depth), label=str(t.item))\n",
    "    if (parentNode != None):\n",
    "        g.add_edge(t.id, parentNode.id)\n",
    "    _buildTreeGraph(g, t.right, t, depth + 1)\n",
    "\n",
    "def showTree(t):\n",
    "    g = nx.Graph()\n",
    "    (tt, _) = _augmentTreeWithId(t, 0)\n",
    "    _buildTreeGraph(g, tt, None, 0)\n",
    "    pos=nx.get_node_attributes(g,'pos')\n",
    "    labels = nx.get_node_attributes(g, 'label')\n",
    "    \n",
    "    nx.draw_networkx_nodes(g, pos, node_size=1000, node_color='#00b4d9')\n",
    "    nx.draw_networkx_edges(g, pos)\n",
    "    nx.draw_networkx_labels(g, pos, labels)"
   ]
  },
  {
   "cell_type": "markdown",
   "metadata": {},
   "source": [
    "### Erstellen einfacher Bäume"
   ]
  },
  {
   "cell_type": "markdown",
   "metadata": {},
   "source": [
    "Wir führen als erstes die grundlegende Datenstruktur ein. Wir folgen der rekursiven Definition. Ein Baum ist eine Wurzel, die ein Datenelement (hier das Feld item) sowie eine Referenz auf einen linken und einen rechten Unterbaum speichert."
   ]
  },
  {
   "cell_type": "code",
   "execution_count": 7,
   "metadata": {},
   "outputs": [],
   "source": [
    "class BinaryTree:\n",
    "    def __init__(self, item, left, right):\n",
    "        self.item = item\n",
    "        self.left = left\n",
    "        self.right = right"
   ]
  },
  {
   "cell_type": "markdown",
   "metadata": {},
   "source": [
    "Den leeren Baum definieren wir als den Wert ```None```."
   ]
  },
  {
   "cell_type": "markdown",
   "metadata": {},
   "source": [
    "Wir können uns nun bereits einen ersten Baum definieren."
   ]
  },
  {
   "cell_type": "code",
   "execution_count": 8,
   "metadata": {},
   "outputs": [],
   "source": [
    "b = BinaryTree(\"root\", \n",
    "               BinaryTree(\"left\", None, None), \n",
    "               BinaryTree(\"right\", None, None)\n",
    "              )"
   ]
  },
  {
   "cell_type": "markdown",
   "metadata": {},
   "source": [
    "Dieser Baum besteht aus der Wurzel, sowie jeweils einem linken und rechten Teilbaum. Der linke und der rechte Teilbaum ist jeweils ein Blatt.  Mit der ```showTree``` funktion können wir den Baum nun visualisieren. "
   ]
  },
  {
   "cell_type": "code",
   "execution_count": 9,
   "metadata": {},
   "outputs": [
    {
     "data": {
      "image/png": "[encoded data removed]",
      "text/plain": [
       "<Figure size 432x288 with 1 Axes>"
      ]
     },
     "metadata": {},
     "output_type": "display_data"
    }
   ],
   "source": [
    "showTree(b)"
   ]
  },
  {
   "cell_type": "markdown",
   "metadata": {},
   "source": [
    "Es ist einfach, sich aus einzelnen Teilbäumen einen komplexeren Baum zusammenzubauen."
   ]
  },
  {
   "cell_type": "code",
   "execution_count": 5,
   "metadata": {},
   "outputs": [],
   "source": [
    "leftSubtree = BinaryTree(\"l\", \n",
    "               BinaryTree(\"ll\", None, None), \n",
    "               BinaryTree(\"lr\", None, None))\n",
    "rightSubtree = BinaryTree(\"r\", \n",
    "               BinaryTree(\"rl\", None, None), \n",
    "               BinaryTree(\"rr\", None, None))\n",
    "tree = BinaryTree(\"root\", leftSubtree, rightSubtree)"
   ]
  },
  {
   "cell_type": "code",
   "execution_count": 6,
   "metadata": {},
   "outputs": [
    {
     "data": {
      "image/png": "[encoded data removed]",
      "text/plain": [
       "<Figure size 432x288 with 1 Axes>"
      ]
     },
     "metadata": {},
     "output_type": "display_data"
    }
   ],
   "source": [
    "showTree(tree)"
   ]
  },
  {
   "cell_type": "markdown",
   "metadata": {
    "collapsed": true
   },
   "source": [
    "# Traversierungsarten"
   ]
  },
  {
   "cell_type": "markdown",
   "metadata": {
    "collapsed": true
   },
   "source": [
    "Genau wie eine Liste, kann ein Baum als Sequenz von Elementen interpretiert werden. Die Reihenfolge dieser Sequenz ist aber nicht eindeutig, sondern hängt davon ab, wie der Baum traversiert wird. \n",
    "\n",
    "Wir unterscheiden zwischen *depth-first* Traversierung und *breadth-first* Traversierung. Bei der depth-first Traversierung unterscheiden wir zusätzlich zwischen *preorder*, *postorder* und *inorder* Traversierung. Es gibt jedoch viele weitere Möglichkeiten einen Baum zu traversieren."
   ]
  },
  {
   "cell_type": "markdown",
   "metadata": {},
   "source": [
    "#### Inorder Traversierung"
   ]
  },
  {
   "cell_type": "markdown",
   "metadata": {},
   "source": [
    "Bei der Inorder Traversierung wird zuerst der linke Teilbaum traversiert, danach wird der Wurzelknoten des jeweiligen Unterbaums verarbeitet, und zum Schluss wird der rechte Teilbaum traversiert. Die Implementation ist ganz einfach: Wir folgen einfach der Definition der Datenstruktur. "
   ]
  },
  {
   "cell_type": "code",
   "execution_count": 7,
   "metadata": {},
   "outputs": [],
   "source": [
    "def printTreeInorder(t):\n",
    "    if (t == None):\n",
    "        return\n",
    "    else:\n",
    "        printTreeInorder(t.left)\n",
    "        print(t.item)\n",
    "        printTreeInorder(t.right)"
   ]
  },
  {
   "cell_type": "markdown",
   "metadata": {},
   "source": [
    "Wenn wir die Funktion aufrufen, können wir nachverfolgen, in welcher Reihenfolge die Knoten besucht werden. "
   ]
  },
  {
   "cell_type": "code",
   "execution_count": 8,
   "metadata": {},
   "outputs": [
    {
     "name": "stdout",
     "output_type": "stream",
     "text": [
      "ll\n",
      "l\n",
      "lr\n",
      "root\n",
      "rl\n",
      "r\n",
      "rr\n"
     ]
    }
   ],
   "source": [
    "printTreeInorder(tree)"
   ]
  },
  {
   "cell_type": "markdown",
   "metadata": {},
   "source": [
    "#### Preorder Traversierung"
   ]
  },
  {
   "cell_type": "markdown",
   "metadata": {},
   "source": [
    "Bei der Preorder Traversierung, wird zuerst das Element an der Wurzel verarbeitet, bevor wir den linken und den rechten Teilbaum traversieren."
   ]
  },
  {
   "cell_type": "code",
   "execution_count": 9,
   "metadata": {},
   "outputs": [],
   "source": [
    "def printTreePreorder(t):\n",
    "    if (t == None):\n",
    "        return\n",
    "    else:\n",
    "        print(t.item)\n",
    "        printTreePreorder(t.left)        \n",
    "        printTreePreorder(t.right)"
   ]
  },
  {
   "cell_type": "code",
   "execution_count": 10,
   "metadata": {},
   "outputs": [
    {
     "name": "stdout",
     "output_type": "stream",
     "text": [
      "root\n",
      "l\n",
      "ll\n",
      "lr\n",
      "r\n",
      "rl\n",
      "rr\n"
     ]
    }
   ],
   "source": [
    "printTreePreorder(tree)"
   ]
  },
  {
   "cell_type": "markdown",
   "metadata": {},
   "source": [
    "#### Postorder Traversierung"
   ]
  },
  {
   "cell_type": "markdown",
   "metadata": {},
   "source": [
    "Analog dazu verhält sich auch die Postorder Traversierung. Hier wird  die Wurzel einfach zuletzt (also nach dem linken und rechten Teilbaum) verarbeitet."
   ]
  },
  {
   "cell_type": "code",
   "execution_count": 11,
   "metadata": {},
   "outputs": [],
   "source": [
    "def printTreePostorder(t):\n",
    "    if (t == None):\n",
    "        return\n",
    "    else:\n",
    "        printTreePostorder(t.left)        \n",
    "        printTreePostorder(t.right)\n",
    "        print(t.item)"
   ]
  },
  {
   "cell_type": "code",
   "execution_count": 12,
   "metadata": {},
   "outputs": [
    {
     "name": "stdout",
     "output_type": "stream",
     "text": [
      "ll\n",
      "lr\n",
      "l\n",
      "rl\n",
      "rr\n",
      "r\n",
      "root\n"
     ]
    }
   ],
   "source": [
    "printTreePostorder(tree)"
   ]
  },
  {
   "cell_type": "markdown",
   "metadata": {},
   "source": [
    "#### Breadth-first Traversierung \n",
    "\n",
    "Bei der preorder, inorder und postorder Traversierung, gehen wir immer zuerst in die Tiefe. Diese Traversierungsarten sind besonders einfach zu implementieren, da sie der rekursiven Struktur der Datenstruktur folgen. \n",
    "Manchmal wollen wir aber trotzdem die Elemente Ebene für Ebene bearbeiten. Die sogenannte Breadth-first Traversierung ist etwas schwieriger zu implementieren. Die einfachste Variante ist, alle Knoten einer Ebene in einer Queue zu speichern und dann jeweils den ersten Knoten der Queue zu verarbeiten. Für jeden Knoten werden dann die Kinder wieder in die Queue eingefügt. Wir iterieren dann solange, bis alle Elemente in der Queue abgearbeitet sind. Die Implementation ist also hier nicht rekursiv, sondern interativ. \n",
    "\n",
    "Als Queue nutzen wir hier einfachheitshalber  eine Python List. Die Operation ```pop(0)``` entspricht dann der dequeue Operation und append der enqueue Operation. "
   ]
  },
  {
   "cell_type": "code",
   "execution_count": 13,
   "metadata": {},
   "outputs": [],
   "source": [
    "def printTreeBreadthFirst(tree):\n",
    "    if tree == None:\n",
    "        return    \n",
    "    queue = [tree]\n",
    "    \n",
    "    while len(queue) > 0:  \n",
    "        \n",
    "        currentNode = queue.pop(0)        \n",
    "        if currentNode.left != None:\n",
    "            queue.append(currentNode.left)\n",
    "        if currentNode.right != None:\n",
    "            queue.append(currentNode.right)\n",
    "        print(currentNode.item)\n",
    "        "
   ]
  },
  {
   "cell_type": "code",
   "execution_count": 14,
   "metadata": {},
   "outputs": [
    {
     "name": "stdout",
     "output_type": "stream",
     "text": [
      "root\n",
      "l\n",
      "r\n",
      "ll\n",
      "lr\n",
      "rl\n",
      "rr\n"
     ]
    }
   ],
   "source": [
    "printTreeBreadthFirst(tree)"
   ]
  }
 ],
 "metadata": {
  "anaconda-cloud": {},
  "kernelspec": {
   "display_name": "Python 3 (ipykernel)",
   "language": "python",
   "name": "python3"
  },
  "language_info": {
   "codemirror_mode": {
    "name": "ipython",
    "version": 3
   },
   "file_extension": ".py",
   "mimetype": "text/x-python",
   "name": "python",
   "nbconvert_exporter": "python",
   "pygments_lexer": "ipython3",
   "version": "3.7.4"
  },
  "toc": {
   "base_numbering": 1,
   "nav_menu": {},
   "number_sections": false,
   "sideBar": false,
   "skip_h1_title": false,
   "title_cell": "Table of Contents",
   "title_sidebar": "Contents",
   "toc_cell": false,
   "toc_position": {},
   "toc_section_display": false,
   "toc_window_display": false
  }
 },
 "nbformat": 4,
 "nbformat_minor": 1
}
