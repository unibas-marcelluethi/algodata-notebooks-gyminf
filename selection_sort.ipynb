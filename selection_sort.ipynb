{
 "cells": [
  {
   "cell_type": "markdown",
   "metadata": {},
   "source": [
    "# Selection Sort"
   ]
  },
  {
   "cell_type": "markdown",
   "metadata": {},
   "source": [
    "Hier ist nochmal der Selection-Sort-Algorithmus aus der Vorlesung:"
   ]
  },
  {
   "cell_type": "code",
   "execution_count": null,
   "metadata": {},
   "outputs": [],
   "source": [
    "def selection_sort(array):\n",
    "    n = len(array)\n",
    "    for i in range(n - 1):\n",
    "        # print(array)\n",
    "        min_index = i\n",
    "        for j in range(i + 1, n):\n",
    "            if array[j] < array[min_index]:\n",
    "                min_index = j\n",
    "        # print(\"Kleinstes Element an Pos.\", i, \"-\", len(array) - 1,\n",
    "        #       \"ist\", array[min_index], \"an Position\", min_index)\n",
    "        # print(\"Tausche es mit\", array[i], \"an Pos.\", i)\n",
    "        array[i], array[min_index] = array[min_index], array[i]\n",
    "        # print(array)"
   ]
  },
  {
   "cell_type": "markdown",
   "metadata": {},
   "source": [
    "Hier ein Beispielaufruf:"
   ]
  },
  {
   "cell_type": "code",
   "execution_count": null,
   "metadata": {},
   "outputs": [],
   "source": [
    "test_array = [7,3,5,9,3]\n",
    "selection_sort(test_array)\n",
    "print(test_array)"
   ]
  },
  {
   "cell_type": "markdown",
   "metadata": {},
   "source": [
    "Um zu zeigen, dass man damit auch komplexere Daten als nur Zahlen sortieren kann, legen wir eine Klasse `Person` an, die für eine Person den Namen und das Alter speichert. Zwei Personen werden nur anhand ihres Alters verglichen."
   ]
  },
  {
   "cell_type": "code",
   "execution_count": null,
   "metadata": {},
   "outputs": [],
   "source": [
    "from functools import total_ordering\n",
    "\n",
    "@total_ordering\n",
    "class Person:\n",
    "    def __init__(self, name, age):\n",
    "        self.name = name\n",
    "        self.age = age\n",
    "        \n",
    "    def __repr__(self):\n",
    "        # creates string representation like \"Manuel (25)\"\n",
    "        return \"%s (%i)\" % (self.name, self.age)\n",
    "\n",
    "    # the comparison operators only consider the age\n",
    "    def __eq__(self, other): # ==\n",
    "        return self.age == other.age\n",
    "    \n",
    "    def __le__(self, other): # <=\n",
    "        return self.age <= other.age\n",
    "    \n",
    "    # Note that we would usually also handle the case\n",
    "    # that 'other' is not an instance of Person."
   ]
  },
  {
   "cell_type": "markdown",
   "metadata": {},
   "source": [
    "Erstellen wir mal ein paar Personenobjekte..."
   ]
  },
  {
   "cell_type": "code",
   "execution_count": null,
   "metadata": {},
   "outputs": [],
   "source": [
    "ella = Person(\"Ella\", 7)\n",
    "hans = Person(\"Hans\", 23)\n",
    "beat = Person(\"Beat\", 23)\n",
    "manuel = Person(\"Manuel\", 30)\n",
    "cara = Person(\"Cara\", 22)\n",
    "beat == hans"
   ]
  },
  {
   "cell_type": "code",
   "execution_count": null,
   "metadata": {},
   "outputs": [],
   "source": [
    "a = [hans, ella, manuel, beat, cara]\n",
    "selection_sort(a)\n",
    "print(a)"
   ]
  },
  {
   "cell_type": "markdown",
   "metadata": {},
   "source": [
    "___\n",
    "<span style=\"color:red;font-size:1em;\">*Aufgabe*</span>: Erstelle eine Eingabe mit den oben definierten Personen, die zeigt, dass selection_sort nicht stabil ist."
   ]
  },
  {
   "cell_type": "code",
   "execution_count": null,
   "metadata": {},
   "outputs": [],
   "source": [
    "not_stable_example = [...]\n",
    "print(not_stable_example)\n",
    "selection_sort(not_stable_example)\n",
    "print(not_stable_example)"
   ]
  }
 ],
 "metadata": {
  "kernelspec": {
   "display_name": "Python 3",
   "language": "python",
   "name": "python3"
  },
  "language_info": {
   "codemirror_mode": {
    "name": "ipython",
    "version": 3
   },
   "file_extension": ".py",
   "mimetype": "text/x-python",
   "name": "python",
   "nbconvert_exporter": "python",
   "pygments_lexer": "ipython3",
   "version": "3.8.10"
  }
 },
 "nbformat": 4,
 "nbformat_minor": 2
}
